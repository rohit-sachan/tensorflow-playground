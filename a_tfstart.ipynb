{
 "cells": [
  {
   "cell_type": "markdown",
   "metadata": {
    "id": "GcSWdHzQ8y8D",
    "colab_type": "text"
   },
   "source": [
    "<h1> Getting started with TensorFlow </h1>\n",
    "\n",
    "In this notebook, you play around with the TensorFlow Python API."
   ]
  },
  {
   "cell_type": "code",
   "execution_count": null,
   "metadata": {
    "id": "YhERrcgx8y8E",
    "colab_type": "code",
    "colab": {
     "autoexec": {
      "startup": false,
      "wait_interval": 0.0
     },
     "base_uri": "https://localhost:8080/",
     "height": 34.0
    },
    "outputId": "cf33f8a1-d913-468a-f168-53b52b895c74",
    "executionInfo": {
     "status": "ok",
     "timestamp": 1.526473826069E12,
     "user_tz": -480.0,
     "elapsed": 1283.0,
     "user": {
      "displayName": "A K",
      "photoUrl": "//lh5.googleusercontent.com/-du9I7X2uiCg/AAAAAAAAAAI/AAAAAAAACDQ/qiTRxbYDbc0/s50-c-k-no/photo.jpg",
      "userId": "100920353928813226256"
     }
    }
   },
   "outputs": [
    {
     "name": "stdout",
     "output_type": "stream",
     "text": [
      "1.7.0\n"
     ]
    }
   ],
   "source": [
    "import tensorflow as tf\n",
    "import numpy as np\n",
    "\n",
    "print tf.__version__"
   ]
  },
  {
   "cell_type": "markdown",
   "metadata": {
    "id": "NdQBsLPb8y8L",
    "colab_type": "text"
   },
   "source": [
    "<h2> Adding two tensors </h2>\n",
    "\n",
    "First, let's try doing this using numpy, the Python numeric package. numpy code is immediately evaluated."
   ]
  },
  {
   "cell_type": "code",
   "execution_count": 2,
   "metadata": {
    "id": "qXAxbUFy8y8M",
    "colab_type": "code",
    "colab": {
     "autoexec": {
      "startup": false,
      "wait_interval": 0.0
     },
     "base_uri": "https://localhost:8080/",
     "height": 34.0
    },
    "outputId": "15f5a43a-219c-46f8-fac7-6c7c549988eb",
    "executionInfo": {
     "status": "ok",
     "timestamp": 1.5264738282E12,
     "user_tz": -480.0,
     "elapsed": 862.0,
     "user": {
      "displayName": "A K",
      "photoUrl": "//lh5.googleusercontent.com/-du9I7X2uiCg/AAAAAAAAAAI/AAAAAAAACDQ/qiTRxbYDbc0/s50-c-k-no/photo.jpg",
      "userId": "100920353928813226256"
     }
    }
   },
   "outputs": [
    {
     "name": "stdout",
     "output_type": "stream",
     "text": [
      "[ 8  2 10]\n"
     ]
    }
   ],
   "source": [
    "a = np.array([5, 3, 8])\n",
    "b = np.array([3, -1, 2])\n",
    "c = np.add(a, b)\n",
    "print c"
   ]
  },
  {
   "cell_type": "markdown",
   "metadata": {
    "id": "QBpJEZmu8y8Q",
    "colab_type": "text"
   },
   "source": [
    "The equivalent code in TensorFlow consists of two steps:\n",
    "<p>\n",
    "<h3> Step 1: Build the graph </h3>"
   ]
  },
  {
   "cell_type": "code",
   "execution_count": 7,
   "metadata": {
    "id": "_yRKVo5F8y8R",
    "colab_type": "code",
    "colab": {
     "autoexec": {
      "startup": false,
      "wait_interval": 0.0
     },
     "base_uri": "https://localhost:8080/",
     "height": 34.0
    },
    "outputId": "5f5eb6b3-322b-4bef-fb87-e25410f80227",
    "executionInfo": {
     "status": "ok",
     "timestamp": 1.526473953577E12,
     "user_tz": -480.0,
     "elapsed": 679.0,
     "user": {
      "displayName": "A K",
      "photoUrl": "//lh5.googleusercontent.com/-du9I7X2uiCg/AAAAAAAAAAI/AAAAAAAACDQ/qiTRxbYDbc0/s50-c-k-no/photo.jpg",
      "userId": "100920353928813226256"
     }
    }
   },
   "outputs": [
    {
     "name": "stdout",
     "output_type": "stream",
     "text": [
      "Tensor(\"Add_3:0\", shape=(3,), dtype=int32)\n"
     ]
    }
   ],
   "source": [
    "a = tf.constant([5, 3, 8])\n",
    "b = tf.constant([3, -1, 2])\n",
    "c = tf.add(a, b)\n",
    "print c"
   ]
  },
  {
   "cell_type": "markdown",
   "metadata": {
    "id": "Xe45btd-8y8V",
    "colab_type": "text"
   },
   "source": [
    "c is an Op (\"Add\") that returns a tensor of shape (3,) and holds int32. The shape is inferred from the computation graph.\n",
    "\n",
    "Try the following in the cell above:\n",
    "<ol>\n",
    "<li> Change the 5 to 5.0, and similarly the other five numbers. What happens when you run this cell? </li>\n",
    "<li> Add an extra number to a, but leave b at the original (3,) shape. What happens when you run this cell? </li>\n",
    "<li> Change the code back to a version that works </li>\n",
    "</ol>\n",
    "\n",
    "<p/>\n",
    "<h3> Step 2: Run the graph"
   ]
  },
  {
   "cell_type": "code",
   "execution_count": 8,
   "metadata": {
    "id": "ADIVhJUY8y8Y",
    "colab_type": "code",
    "colab": {
     "autoexec": {
      "startup": false,
      "wait_interval": 0.0
     },
     "base_uri": "https://localhost:8080/",
     "height": 34.0
    },
    "outputId": "94d97473-1f6c-4296-82a9-d0c18a1d9763",
    "executionInfo": {
     "status": "ok",
     "timestamp": 1.526473963565E12,
     "user_tz": -480.0,
     "elapsed": 882.0,
     "user": {
      "displayName": "A K",
      "photoUrl": "//lh5.googleusercontent.com/-du9I7X2uiCg/AAAAAAAAAAI/AAAAAAAACDQ/qiTRxbYDbc0/s50-c-k-no/photo.jpg",
      "userId": "100920353928813226256"
     }
    }
   },
   "outputs": [
    {
     "name": "stdout",
     "output_type": "stream",
     "text": [
      "[ 8  2 10]\n"
     ]
    }
   ],
   "source": [
    "with tf.Session() as sess:\n",
    "  result = sess.run(c)\n",
    "  print result"
   ]
  },
  {
   "cell_type": "markdown",
   "metadata": {
    "id": "H5qPZH938y8c",
    "colab_type": "text"
   },
   "source": [
    "<h2> Using a feed_dict </h2>\n",
    "\n",
    "Same graph, but without hardcoding inputs at build stage"
   ]
  },
  {
   "cell_type": "code",
   "execution_count": 9,
   "metadata": {
    "id": "qhqV7U6x8y8d",
    "colab_type": "code",
    "colab": {
     "autoexec": {
      "startup": false,
      "wait_interval": 0.0
     },
     "base_uri": "https://localhost:8080/",
     "height": 34.0
    },
    "outputId": "95460f90-067d-4e68-b5d9-80a430fa2d40",
    "executionInfo": {
     "status": "ok",
     "timestamp": 1.526474087552E12,
     "user_tz": -480.0,
     "elapsed": 704.0,
     "user": {
      "displayName": "A K",
      "photoUrl": "//lh5.googleusercontent.com/-du9I7X2uiCg/AAAAAAAAAAI/AAAAAAAACDQ/qiTRxbYDbc0/s50-c-k-no/photo.jpg",
      "userId": "100920353928813226256"
     }
    }
   },
   "outputs": [
    {
     "name": "stdout",
     "output_type": "stream",
     "text": [
      "[2 6 8]\n"
     ]
    }
   ],
   "source": [
    "a = tf.placeholder(dtype=tf.int32, shape=(None,))  # batchsize x scalar\n",
    "b = tf.placeholder(dtype=tf.int32, shape=(None,))\n",
    "c = tf.add(a, b)\n",
    "with tf.Session() as sess:\n",
    "  result = sess.run(c, feed_dict={\n",
    "      a: [3, 4, 5],\n",
    "      b: [-1, 2, 3]\n",
    "    })\n",
    "  print result"
   ]
  },
  {
   "cell_type": "markdown",
   "metadata": {
    "id": "sfTcmPR38y8g",
    "colab_type": "text"
   },
   "source": [
    "<h2> Heron's Formula in TensorFlow </h2>\n",
    "\n",
    "The area of triangle whose three sides are $(a, b, c)$ is $\\sqrt{s(s-a)(s-b)(s-c)}$ where $s=\\frac{a+b+c}{2}$ \n",
    "\n",
    "Look up the available operations at https://www.tensorflow.org/api_docs/python/tf"
   ]
  },
  {
   "cell_type": "code",
   "execution_count": 10,
   "metadata": {
    "id": "8kXwBEPJ8y8h",
    "colab_type": "code",
    "colab": {
     "autoexec": {
      "startup": false,
      "wait_interval": 0.0
     },
     "base_uri": "https://localhost:8080/",
     "height": 34.0
    },
    "outputId": "60bf0161-d54f-4d82-efc3-9e24b8864ed1",
    "executionInfo": {
     "status": "ok",
     "timestamp": 1.526474590302E12,
     "user_tz": -480.0,
     "elapsed": 697.0,
     "user": {
      "displayName": "A K",
      "photoUrl": "//lh5.googleusercontent.com/-du9I7X2uiCg/AAAAAAAAAAI/AAAAAAAACDQ/qiTRxbYDbc0/s50-c-k-no/photo.jpg",
      "userId": "100920353928813226256"
     }
    }
   },
   "outputs": [
    {
     "name": "stdout",
     "output_type": "stream",
     "text": [
      "[6.278497 4.709139]\n"
     ]
    }
   ],
   "source": [
    "def compute_area(sides):\n",
    "  # slice the input to get the sides\n",
    "  a = sides[:,0]  # 5.0, 2.3\n",
    "  b = sides[:,1]  # 3.0, 4.1\n",
    "  c = sides[:,2]  # 7.1, 4.8\n",
    "  \n",
    "  # Heron's formula\n",
    "  s = (a + b + c) * 0.5   # (a + b) is a short-cut to tf.add(a, b)\n",
    "  areasq = s * (s - a) * (s - b) * (s - c) # (a * b) is a short-cut to tf.multiply(a, b), not tf.matmul(a, b)\n",
    "  return tf.sqrt(areasq)\n",
    "\n",
    "with tf.Session() as sess:\n",
    "  # pass in two triangles\n",
    "  area = compute_area(tf.constant([\n",
    "      [5.0, 3.0, 7.1],\n",
    "      [2.3, 4.1, 4.8]\n",
    "    ]))\n",
    "  result = sess.run(area)\n",
    "  print result"
   ]
  },
  {
   "cell_type": "markdown",
   "metadata": {
    "id": "CF2Ztt808y8l",
    "colab_type": "text"
   },
   "source": [
    "<h2> Placeholder and feed_dict </h2>\n",
    "\n",
    "More common is to define the input to a program as a placeholder and then to feed in the inputs. The difference between the code below and the code above is whether the \"area\" graph is coded up with the input values or whether the \"area\" graph is coded up with a placeholder through which inputs will be passed in at run-time."
   ]
  },
  {
   "cell_type": "code",
   "execution_count": 11,
   "metadata": {
    "id": "yPsNdISh8y8l",
    "colab_type": "code",
    "colab": {
     "autoexec": {
      "startup": false,
      "wait_interval": 0.0
     },
     "base_uri": "https://localhost:8080/",
     "height": 34.0
    },
    "outputId": "d62211a7-0ec9-43d1-8582-3ea7cb786104",
    "executionInfo": {
     "status": "ok",
     "timestamp": 1.526474661625E12,
     "user_tz": -480.0,
     "elapsed": 782.0,
     "user": {
      "displayName": "A K",
      "photoUrl": "//lh5.googleusercontent.com/-du9I7X2uiCg/AAAAAAAAAAI/AAAAAAAACDQ/qiTRxbYDbc0/s50-c-k-no/photo.jpg",
      "userId": "100920353928813226256"
     }
    }
   },
   "outputs": [
    {
     "name": "stdout",
     "output_type": "stream",
     "text": [
      "[6.278497 4.709139]\n"
     ]
    }
   ],
   "source": [
    "with tf.Session() as sess:\n",
    "  sides = tf.placeholder(tf.float32, shape=(None, 3))  # batchsize number of triangles, 3 sides\n",
    "  area = compute_area(sides)\n",
    "  result = sess.run(area, feed_dict = {\n",
    "      sides: [\n",
    "        [5.0, 3.0, 7.1],\n",
    "        [2.3, 4.1, 4.8]\n",
    "      ]\n",
    "    })\n",
    "  print result"
   ]
  },
  {
   "cell_type": "markdown",
   "metadata": {
    "id": "Tz_H04XT8y8q",
    "colab_type": "text"
   },
   "source": [
    "## tf.eager\n",
    "\n",
    "tf.eager allows you to avoid the build-then-run stages. However, most production code will follow the lazy evaluation paradigm because the lazy evaluation paradigm is what allows for multi-device support and distribution. \n",
    "<p>\n",
    "One thing you could do is to develop using tf.eager and then comment out the eager execution and add in the session management code.\n",
    "\n",
    "<b> You may need to click on Reset Session to try this out </b>"
   ]
  },
  {
   "cell_type": "code",
   "execution_count": 1,
   "metadata": {
    "id": "qQCWiU5i8y8q",
    "colab_type": "code",
    "colab": {
     "autoexec": {
      "startup": false,
      "wait_interval": 0.0
     },
     "base_uri": "https://localhost:8080/",
     "height": 34.0
    },
    "outputId": "a1e53874-8647-4e2f-bbca-25792639d91a",
    "executionInfo": {
     "status": "ok",
     "timestamp": 1.526474929483E12,
     "user_tz": -480.0,
     "elapsed": 2019.0,
     "user": {
      "displayName": "A K",
      "photoUrl": "//lh5.googleusercontent.com/-du9I7X2uiCg/AAAAAAAAAAI/AAAAAAAACDQ/qiTRxbYDbc0/s50-c-k-no/photo.jpg",
      "userId": "100920353928813226256"
     }
    }
   },
   "outputs": [
    {
     "name": "stdout",
     "output_type": "stream",
     "text": [
      "tf.Tensor([6.278497 4.709139], shape=(2,), dtype=float32)\n"
     ]
    }
   ],
   "source": [
    "import tensorflow as tf\n",
    "from tensorflow.contrib.eager.python import tfe\n",
    "\n",
    "tfe.enable_eager_execution()\n",
    "\n",
    "def compute_area(sides):\n",
    "  # slice the input to get the sides\n",
    "  a = sides[:,0]  # 5.0, 2.3\n",
    "  b = sides[:,1]  # 3.0, 4.1\n",
    "  c = sides[:,2]  # 7.1, 4.8\n",
    "  \n",
    "  # Heron's formula\n",
    "  s = (a + b + c) * 0.5   # (a + b) is a short-cut to tf.add(a, b)\n",
    "  areasq = s * (s - a) * (s - b) * (s - c) # (a * b) is a short-cut to tf.multiply(a, b), not tf.matmul(a, b)\n",
    "  return tf.sqrt(areasq)\n",
    "\n",
    "area = compute_area(tf.constant([\n",
    "      [5.0, 3.0, 7.1],\n",
    "      [2.3, 4.1, 4.8]\n",
    "    ]))\n",
    "\n",
    "\n",
    "print area"
   ]
  },
  {
   "cell_type": "markdown",
   "metadata": {
    "id": "SnwFMi8-8y8u",
    "colab_type": "text"
   },
   "source": [
    "## Challenge Exercise\n",
    "\n",
    "Use TensorFlow to find the roots of a fourth-degree polynomial using [Halley's Method](https://en.wikipedia.org/wiki/Halley%27s_method).  The five coefficients (i.e. $a_0$ to $a_4$) of \n",
    "<p>\n",
    "$f(x) = a_0 + a_1 x + a_2 x^2 + a_3 x^3 + a_4 x^4$\n",
    "<p>\n",
    "will be fed into the program, as will the initial guess $x_0$. Your program will start from that initial guess and then iterate one step using the formula:\n",
    "<img src=\"https://wikimedia.org/api/rest_v1/media/math/render/svg/142614c0378a1d61cb623c1352bf85b6b7bc4397\" />\n",
    "<p>\n",
    "If you got the above easily, try iterating indefinitely until the change between $x_n$ and $x_{n+1}$ is less than some specified tolerance. Hint: Use [tf.where_loop](https://www.tensorflow.org/api_docs/python/tf/while_loop)"
   ]
  },
  {
   "cell_type": "markdown",
   "metadata": {
    "id": "shnTJAlq8y8v",
    "colab_type": "text"
   },
   "source": [
    "Copyright 2017 Google Inc. Licensed under the Apache License, Version 2.0 (the \"License\"); you may not use this file except in compliance with the License. You may obtain a copy of the License at http://www.apache.org/licenses/LICENSE-2.0 Unless required by applicable law or agreed to in writing, software distributed under the License is distributed on an \"AS IS\" BASIS, WITHOUT WARRANTIES OR CONDITIONS OF ANY KIND, either express or implied. See the License for the specific language governing permissions and limitations under the License"
   ]
  }
 ],
 "metadata": {
  "colab": {
   "name": "a_tfstart.ipynb",
   "version": "0.3.2",
   "views": {},
   "default_view": {},
   "provenance": [],
   "collapsed_sections": []
  },
  "kernelspec": {
   "display_name": "Python 2",
   "language": "python",
   "name": "python2"
  }
 },
 "nbformat": 4,
 "nbformat_minor": 0
}
